{
 "cells": [
  {
   "cell_type": "markdown",
   "metadata": {
    "collapsed": true,
    "pycharm": {
     "name": "#%% md\n"
    }
   },
   "source": [
    "# KENDAXA ASSIGNMENT - MACHINE LEARNING POSITION\n",
    "## S&P500 Regression - *by Jan Kořínek*"
   ]
  },
  {
   "cell_type": "markdown",
   "source": [
    "### Deliverable goals\n",
    "#### Regression task\n",
    "\n",
    "Your goal is to perform exploratory data analysis (EDA)\n",
    "and to train and compare few models on a regression task.\n",
    "Your task is to predict day-ahed daily volumes of the S&P\n",
    "500 index using any available information from the past;\n",
    "i.e., you are going to predict the volume v t+1 using the\n",
    "information available on days t , t − 1 , . . . .\n",
    "\n",
    "Evaluate the models performance on out-of-sample data\n",
    "using data from 2017 and 2018 (i.e., January 1st, 2017 –\n",
    "December 31st , 2018).\n",
    "\n",
    "Do not forget that you can use (and should) data outside\n",
    "the series itself — for example, calendar with known events.\n",
    "\n",
    "Since your goal is to evaluate and compare several\n",
    "models along with finding the best, you have to use some\n",
    "kind of cross-validation as the dataset is quite small (which\n",
    "is very common for some of the real world datasets).\n",
    "\n",
    "If you find it applicable, use statistical tests in the EDA\n",
    "and comparison to distinguis.\n",
    "\n",
    "#### Report and scope\n",
    "\n",
    "You are required to write a brief report in the PDF format\n",
    "(L A TEXusage is recommend) summarizing the approaches\n",
    "and presenting the results for all three subtasks. It is rec-\n",
    "ommend to use figures and plots where it will help you\n",
    "make your point. The report should contain all the necessary\n",
    "details to understand what approach you have undertaken,\n",
    "what were the results and how you interpret them.\n",
    "\n",
    "our report should summarize the main results of your EDA\n",
    "but it is sufficient to have the details of the EDA only in the\n",
    "Jupyter notebook. Briefly (very briefly) introduce the used\n",
    "models. You should compare the models with regards to\n",
    "more than one metric each with explanation when is each of\n",
    "the metrics preferable. You should also state your trust in the\n",
    "individual models — e.g., that even if some model gives you\n",
    "very good results, you still might not trust it because it is\n",
    "sensitive to the data changes. Compare the models also with\n",
    "respect to their robustness and interpretability. Interpret the\n",
    "few models you will select as your top ranking candidates,\n",
    "show which features they are relying the most, etc. Where\n",
    "applicable, perform formal statistical tests to support your\n",
    "results.\n",
    "\n",
    "Please, also state the limitations of your work and direc-\n",
    "tions, in which it can be expanded — it is expected that you\n",
    "will not be able to exhaust all possible approaches in the\n",
    "limited time. Please state which of the possible expansions\n",
    "are most promising and why.\n",
    "\n",
    "The report is expected to have about 5–12 pages when using\n",
    "two-column format with figures but there are no hard limits\n",
    "as the completeness of the presented information is the\n",
    "goal (as long as there are no empty sentences or fillers, the\n",
    "length will not be evaluated)."
   ],
   "metadata": {
    "collapsed": false
   }
  },
  {
   "cell_type": "markdown",
   "source": [
    "### Content"
   ],
   "metadata": {
    "collapsed": false
   }
  },
  {
   "cell_type": "markdown",
   "source": [
    "### 1. S&P500 dataset preparation and merging with calendar events"
   ],
   "metadata": {
    "collapsed": false
   }
  },
  {
   "cell_type": "code",
   "execution_count": 4,
   "outputs": [
    {
     "name": "stdout",
     "output_type": "stream",
     "text": [
      "Processing raw data...\n"
     ]
    },
    {
     "name": "stderr",
     "output_type": "stream",
     "text": [
      "/mnt/Data/JK WORKS/Artificial_Intelligence/_Projects/20211107_Kendaxa_Tasks/03_Regression-SP500_Volumes_Prediction/venv/lib/python3.9/site-packages/dateparser/date_parser.py:35: PytzUsageWarning: The localize method is no longer necessary, as this time zone supports the fold attribute (PEP 495). For more details on migrating to a PEP 495-compliant implementation, see https://pytz-deprecation-shim.readthedocs.io/en/latest/migration.html\n",
      "  date_obj = stz.localize(date_obj)\n"
     ]
    },
    {
     "name": "stdout",
     "output_type": "stream",
     "text": [
      "Dataset processing finished in: 0:00:20\n"
     ]
    },
    {
     "data": {
      "text/plain": "               Open     High      Low    Close        Volume  \\\nDate                                                           \n1990-01-02   353.40   359.69   351.98   359.69  1.620700e+08   \n1990-01-03   359.69   360.59   357.89   358.76  1.923300e+08   \n1990-01-04   358.76   358.76   352.89   355.67  1.770000e+08   \n1990-01-05   355.67   355.67   351.35   352.20  1.585300e+08   \n1990-01-08   352.20   354.24   350.54   353.79  1.401100e+08   \n...             ...      ...      ...      ...           ...   \n2012-07-01  4699.26  4718.50  4681.32  4697.53  3.491150e+09   \n2012-09-01  4699.26  4718.50  4681.32  4697.53  3.491150e+09   \n2012-12-01  4699.26  4718.50  4681.32  4697.53  3.491150e+09   \n2013-06-01  4699.26  4718.50  4681.32  4697.53  3.491150e+09   \n2020-03-15  4699.26  4718.50  4681.32  4697.53  3.491150e+09   \n\n            ADP Nonfarm Employment Chang  Building Permit  \\\nDate                                                        \n1990-01-02                           NaN              NaN   \n1990-01-03                           NaN              NaN   \n1990-01-04                           NaN              NaN   \n1990-01-05                           NaN              NaN   \n1990-01-08                           NaN              NaN   \n...                                  ...              ...   \n2012-07-01                           0.0        1589000.0   \n2012-09-01                           0.0        1589000.0   \n2012-12-01                           0.0        1589000.0   \n2013-06-01                           0.0        1589000.0   \n2020-03-15                           0.0        1589000.0   \n\n            CB Consumer Confidenc  Core CP  Core Durable Goods Order  ...  \\\nDate                                                                  ...   \n1990-01-02                    NaN      NaN                       NaN  ...   \n1990-01-03                    NaN      NaN                       NaN  ...   \n1990-01-04                    NaN      NaN                       NaN  ...   \n1990-01-05                    NaN      NaN                       NaN  ...   \n1990-01-08                    NaN      NaN                       NaN  ...   \n...                           ...      ...                       ...  ...   \n2012-07-01                   90.6      0.2                       0.4  ...   \n2012-09-01                   90.6      0.2                       0.4  ...   \n2012-12-01                   90.6      0.2                       0.4  ...   \n2013-06-01                   90.6      0.2                       0.4  ...   \n2020-03-15                   90.6      0.2                       0.4  ...   \n\n            Initial Jobless Claim  JOLTs Job Opening  New Home Sale  \\\nDate                                                                  \n1990-01-02                    NaN                NaN            NaN   \n1990-01-03                    NaN                NaN            NaN   \n1990-01-04                    NaN                NaN            NaN   \n1990-01-05                    NaN                NaN            NaN   \n1990-01-08                    NaN                NaN            NaN   \n...                           ...                ...            ...   \n2012-07-01               349100.0          3790000.0       619000.0   \n2012-09-01               349100.0          3640000.0       619000.0   \n2012-12-01               349100.0          3740000.0       619000.0   \n2013-06-01               349100.0          3830000.0       619000.0   \n2020-03-15               349100.0          3830000.0       619000.0   \n\n            Nonfarm Payroll   PP  Pending Home Sale  \\\nDate                                                  \n1990-01-02              NaN  NaN                NaN   \n1990-01-03              NaN  NaN                NaN   \n1990-01-04              NaN  NaN                NaN   \n1990-01-05          96000.0  NaN                NaN   \n1990-01-08          96000.0  NaN                NaN   \n...                     ...  ...                ...   \n2012-07-01         162000.0  0.5               -2.4   \n2012-09-01         162000.0  0.5               -2.4   \n2012-12-01         162000.0  0.5               -2.4   \n2013-06-01         162000.0  0.5               -2.4   \n2020-03-15         162000.0  0.5               -2.4   \n\n            Philadelphia Fed Manufacturing Inde  Retail Sale  \\\nDate                                                           \n1990-01-02                                  NaN          NaN   \n1990-01-03                                  NaN          NaN   \n1990-01-04                                  NaN          NaN   \n1990-01-05                                  NaN          NaN   \n1990-01-08                                  NaN          NaN   \n...                                         ...          ...   \n2012-07-01                                 -5.5         -0.7   \n2012-09-01                                 -5.5         -0.7   \n2012-12-01                                 -5.5         -0.7   \n2013-06-01                                 -5.5         -0.7   \n2020-03-15                                 -5.5         -0.7   \n\n            US Federal Budge  Unemployment Rat  \nDate                                            \n1990-01-02               NaN               NaN  \n1990-01-03               NaN               NaN  \n1990-01-04               NaN               NaN  \n1990-01-05               NaN               NaN  \n1990-01-08               NaN               NaN  \n...                      ...               ...  \n2012-07-01     -1.837000e+09               9.7  \n2012-09-01     -1.837000e+09               9.7  \n2012-12-01     -1.837000e+09               9.7  \n2013-06-01     -1.837000e+09               9.7  \n2020-03-15     -1.837000e+09               9.7  \n\n[8134 rows x 29 columns]",
      "text/html": "<div>\n<style scoped>\n    .dataframe tbody tr th:only-of-type {\n        vertical-align: middle;\n    }\n\n    .dataframe tbody tr th {\n        vertical-align: top;\n    }\n\n    .dataframe thead th {\n        text-align: right;\n    }\n</style>\n<table border=\"1\" class=\"dataframe\">\n  <thead>\n    <tr style=\"text-align: right;\">\n      <th></th>\n      <th>Open</th>\n      <th>High</th>\n      <th>Low</th>\n      <th>Close</th>\n      <th>Volume</th>\n      <th>ADP Nonfarm Employment Chang</th>\n      <th>Building Permit</th>\n      <th>CB Consumer Confidenc</th>\n      <th>Core CP</th>\n      <th>Core Durable Goods Order</th>\n      <th>...</th>\n      <th>Initial Jobless Claim</th>\n      <th>JOLTs Job Opening</th>\n      <th>New Home Sale</th>\n      <th>Nonfarm Payroll</th>\n      <th>PP</th>\n      <th>Pending Home Sale</th>\n      <th>Philadelphia Fed Manufacturing Inde</th>\n      <th>Retail Sale</th>\n      <th>US Federal Budge</th>\n      <th>Unemployment Rat</th>\n    </tr>\n    <tr>\n      <th>Date</th>\n      <th></th>\n      <th></th>\n      <th></th>\n      <th></th>\n      <th></th>\n      <th></th>\n      <th></th>\n      <th></th>\n      <th></th>\n      <th></th>\n      <th></th>\n      <th></th>\n      <th></th>\n      <th></th>\n      <th></th>\n      <th></th>\n      <th></th>\n      <th></th>\n      <th></th>\n      <th></th>\n      <th></th>\n    </tr>\n  </thead>\n  <tbody>\n    <tr>\n      <th>1990-01-02</th>\n      <td>353.40</td>\n      <td>359.69</td>\n      <td>351.98</td>\n      <td>359.69</td>\n      <td>1.620700e+08</td>\n      <td>NaN</td>\n      <td>NaN</td>\n      <td>NaN</td>\n      <td>NaN</td>\n      <td>NaN</td>\n      <td>...</td>\n      <td>NaN</td>\n      <td>NaN</td>\n      <td>NaN</td>\n      <td>NaN</td>\n      <td>NaN</td>\n      <td>NaN</td>\n      <td>NaN</td>\n      <td>NaN</td>\n      <td>NaN</td>\n      <td>NaN</td>\n    </tr>\n    <tr>\n      <th>1990-01-03</th>\n      <td>359.69</td>\n      <td>360.59</td>\n      <td>357.89</td>\n      <td>358.76</td>\n      <td>1.923300e+08</td>\n      <td>NaN</td>\n      <td>NaN</td>\n      <td>NaN</td>\n      <td>NaN</td>\n      <td>NaN</td>\n      <td>...</td>\n      <td>NaN</td>\n      <td>NaN</td>\n      <td>NaN</td>\n      <td>NaN</td>\n      <td>NaN</td>\n      <td>NaN</td>\n      <td>NaN</td>\n      <td>NaN</td>\n      <td>NaN</td>\n      <td>NaN</td>\n    </tr>\n    <tr>\n      <th>1990-01-04</th>\n      <td>358.76</td>\n      <td>358.76</td>\n      <td>352.89</td>\n      <td>355.67</td>\n      <td>1.770000e+08</td>\n      <td>NaN</td>\n      <td>NaN</td>\n      <td>NaN</td>\n      <td>NaN</td>\n      <td>NaN</td>\n      <td>...</td>\n      <td>NaN</td>\n      <td>NaN</td>\n      <td>NaN</td>\n      <td>NaN</td>\n      <td>NaN</td>\n      <td>NaN</td>\n      <td>NaN</td>\n      <td>NaN</td>\n      <td>NaN</td>\n      <td>NaN</td>\n    </tr>\n    <tr>\n      <th>1990-01-05</th>\n      <td>355.67</td>\n      <td>355.67</td>\n      <td>351.35</td>\n      <td>352.20</td>\n      <td>1.585300e+08</td>\n      <td>NaN</td>\n      <td>NaN</td>\n      <td>NaN</td>\n      <td>NaN</td>\n      <td>NaN</td>\n      <td>...</td>\n      <td>NaN</td>\n      <td>NaN</td>\n      <td>NaN</td>\n      <td>96000.0</td>\n      <td>NaN</td>\n      <td>NaN</td>\n      <td>NaN</td>\n      <td>NaN</td>\n      <td>NaN</td>\n      <td>NaN</td>\n    </tr>\n    <tr>\n      <th>1990-01-08</th>\n      <td>352.20</td>\n      <td>354.24</td>\n      <td>350.54</td>\n      <td>353.79</td>\n      <td>1.401100e+08</td>\n      <td>NaN</td>\n      <td>NaN</td>\n      <td>NaN</td>\n      <td>NaN</td>\n      <td>NaN</td>\n      <td>...</td>\n      <td>NaN</td>\n      <td>NaN</td>\n      <td>NaN</td>\n      <td>96000.0</td>\n      <td>NaN</td>\n      <td>NaN</td>\n      <td>NaN</td>\n      <td>NaN</td>\n      <td>NaN</td>\n      <td>NaN</td>\n    </tr>\n    <tr>\n      <th>...</th>\n      <td>...</td>\n      <td>...</td>\n      <td>...</td>\n      <td>...</td>\n      <td>...</td>\n      <td>...</td>\n      <td>...</td>\n      <td>...</td>\n      <td>...</td>\n      <td>...</td>\n      <td>...</td>\n      <td>...</td>\n      <td>...</td>\n      <td>...</td>\n      <td>...</td>\n      <td>...</td>\n      <td>...</td>\n      <td>...</td>\n      <td>...</td>\n      <td>...</td>\n      <td>...</td>\n    </tr>\n    <tr>\n      <th>2012-07-01</th>\n      <td>4699.26</td>\n      <td>4718.50</td>\n      <td>4681.32</td>\n      <td>4697.53</td>\n      <td>3.491150e+09</td>\n      <td>0.0</td>\n      <td>1589000.0</td>\n      <td>90.6</td>\n      <td>0.2</td>\n      <td>0.4</td>\n      <td>...</td>\n      <td>349100.0</td>\n      <td>3790000.0</td>\n      <td>619000.0</td>\n      <td>162000.0</td>\n      <td>0.5</td>\n      <td>-2.4</td>\n      <td>-5.5</td>\n      <td>-0.7</td>\n      <td>-1.837000e+09</td>\n      <td>9.7</td>\n    </tr>\n    <tr>\n      <th>2012-09-01</th>\n      <td>4699.26</td>\n      <td>4718.50</td>\n      <td>4681.32</td>\n      <td>4697.53</td>\n      <td>3.491150e+09</td>\n      <td>0.0</td>\n      <td>1589000.0</td>\n      <td>90.6</td>\n      <td>0.2</td>\n      <td>0.4</td>\n      <td>...</td>\n      <td>349100.0</td>\n      <td>3640000.0</td>\n      <td>619000.0</td>\n      <td>162000.0</td>\n      <td>0.5</td>\n      <td>-2.4</td>\n      <td>-5.5</td>\n      <td>-0.7</td>\n      <td>-1.837000e+09</td>\n      <td>9.7</td>\n    </tr>\n    <tr>\n      <th>2012-12-01</th>\n      <td>4699.26</td>\n      <td>4718.50</td>\n      <td>4681.32</td>\n      <td>4697.53</td>\n      <td>3.491150e+09</td>\n      <td>0.0</td>\n      <td>1589000.0</td>\n      <td>90.6</td>\n      <td>0.2</td>\n      <td>0.4</td>\n      <td>...</td>\n      <td>349100.0</td>\n      <td>3740000.0</td>\n      <td>619000.0</td>\n      <td>162000.0</td>\n      <td>0.5</td>\n      <td>-2.4</td>\n      <td>-5.5</td>\n      <td>-0.7</td>\n      <td>-1.837000e+09</td>\n      <td>9.7</td>\n    </tr>\n    <tr>\n      <th>2013-06-01</th>\n      <td>4699.26</td>\n      <td>4718.50</td>\n      <td>4681.32</td>\n      <td>4697.53</td>\n      <td>3.491150e+09</td>\n      <td>0.0</td>\n      <td>1589000.0</td>\n      <td>90.6</td>\n      <td>0.2</td>\n      <td>0.4</td>\n      <td>...</td>\n      <td>349100.0</td>\n      <td>3830000.0</td>\n      <td>619000.0</td>\n      <td>162000.0</td>\n      <td>0.5</td>\n      <td>-2.4</td>\n      <td>-5.5</td>\n      <td>-0.7</td>\n      <td>-1.837000e+09</td>\n      <td>9.7</td>\n    </tr>\n    <tr>\n      <th>2020-03-15</th>\n      <td>4699.26</td>\n      <td>4718.50</td>\n      <td>4681.32</td>\n      <td>4697.53</td>\n      <td>3.491150e+09</td>\n      <td>0.0</td>\n      <td>1589000.0</td>\n      <td>90.6</td>\n      <td>0.2</td>\n      <td>0.4</td>\n      <td>...</td>\n      <td>349100.0</td>\n      <td>3830000.0</td>\n      <td>619000.0</td>\n      <td>162000.0</td>\n      <td>0.5</td>\n      <td>-2.4</td>\n      <td>-5.5</td>\n      <td>-0.7</td>\n      <td>-1.837000e+09</td>\n      <td>9.7</td>\n    </tr>\n  </tbody>\n</table>\n<p>8134 rows × 29 columns</p>\n</div>"
     },
     "execution_count": 4,
     "metadata": {},
     "output_type": "execute_result"
    }
   ],
   "source": [
    "# Load and extract data from raw CSVs into dataframes for S&P500 and relevant events\n",
    "%run lib/prepare_dataset.py\n",
    "\n",
    "# Show processed df\n",
    "sp500_calendar"
   ],
   "metadata": {
    "collapsed": false,
    "pycharm": {
     "name": "#%%\n"
    }
   }
  },
  {
   "cell_type": "code",
   "execution_count": null,
   "outputs": [],
   "source": [],
   "metadata": {
    "collapsed": false,
    "pycharm": {
     "name": "#%%\n"
    }
   }
  }
 ],
 "metadata": {
  "kernelspec": {
   "display_name": "Python 3",
   "language": "python",
   "name": "python3"
  },
  "language_info": {
   "codemirror_mode": {
    "name": "ipython",
    "version": 2
   },
   "file_extension": ".py",
   "mimetype": "text/x-python",
   "name": "python",
   "nbconvert_exporter": "python",
   "pygments_lexer": "ipython2",
   "version": "2.7.6"
  }
 },
 "nbformat": 4,
 "nbformat_minor": 0
}